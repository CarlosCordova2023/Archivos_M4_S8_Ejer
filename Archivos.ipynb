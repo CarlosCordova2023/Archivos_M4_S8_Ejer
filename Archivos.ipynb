{
  "nbformat": 4,
  "nbformat_minor": 0,
  "metadata": {
    "colab": {
      "provenance": [],
      "authorship_tag": "ABX9TyOSRTiRpGiIETVK4E9QqgWS",
      "include_colab_link": true
    },
    "kernelspec": {
      "name": "python3",
      "display_name": "Python 3"
    },
    "language_info": {
      "name": "python"
    }
  },
  "cells": [
    {
      "cell_type": "markdown",
      "metadata": {
        "id": "view-in-github",
        "colab_type": "text"
      },
      "source": [
        "<a href=\"https://colab.research.google.com/github/CarlosCordova2023/Archivos_M4_S8_Ejer/blob/main/Archivos.ipynb\" target=\"_parent\"><img src=\"https://colab.research.google.com/assets/colab-badge.svg\" alt=\"Open In Colab\"/></a>"
      ]
    },
    {
      "cell_type": "code",
      "execution_count": 2,
      "metadata": {
        "colab": {
          "base_uri": "https://localhost:8080/"
        },
        "id": "_6otYE1TmW_O",
        "outputId": "ee775d8a-2844-4a00-80e1-604f52f258f5"
      },
      "outputs": [
        {
          "output_type": "stream",
          "name": "stdout",
          "text": [
            "El archivo informacion.txt ya existe.\n"
          ]
        }
      ],
      "source": [
        "import os\n",
        "\n",
        "nombre_archivo = \"informacion.txt\"\n",
        "\n",
        "if os.path.exists(nombre_archivo):\n",
        "    print(f\"El archivo {nombre_archivo} ya existe.\")\n",
        "else:\n",
        "    with open(nombre_archivo, 'w') as archivo:\n",
        "        archivo.write(\"Datos de información en la línea 1\\n\")\n",
        "        archivo.write(\"Datos de información en la línea 2\\n\")\n",
        "        archivo.write(\"Datos de información en la línea 3\\n\")\n",
        "        archivo.write(\"Datos de información en la línea 4\\n\")\n",
        "        archivo.write(\"Datos de información en la línea 5\\n\")\n",
        "    print(f\"El archivo {nombre_archivo} ha sido creado.\")\n"
      ]
    }
  ]
}